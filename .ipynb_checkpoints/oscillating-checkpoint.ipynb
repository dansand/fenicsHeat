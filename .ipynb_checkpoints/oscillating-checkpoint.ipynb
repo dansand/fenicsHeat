{
 "cells": [
  {
   "cell_type": "markdown",
   "metadata": {
    "collapsed": true
   },
   "source": [
    "## Heat equation with oscillating bcs (surface temperature)\n",
    "\n",
    "This notebook solves the one (or two) dimensional heat diffusion problem\n",
    " \n",
    " \n",
    " $$ \\frac{\\partial u}{\\partial t} =\n",
    "        {\\alpha} \\frac{\\partial^2 u}{\\partial x^2},\n",
    "        \\quad   x\\in (0,L),\\ t\\in (0, T],$$\n",
    "        \n",
    "        \n",
    " $$u(x,0) = U_0,\n",
    "        \\quad  x\\in [0,L]$$\n",
    "        \n",
    "        \n",
    "$$  u(0, t)  = U_0 + A\\cos(\\omega_1 t) + B\\cos(\\omega_2 t),\n",
    "        \\quad   t\\in (0, T]$$\n",
    "        \n",
    "        \n",
    " $$ \\frac{\\partial}{\\partial x} u(L, t)  = 0,\n",
    "        \\quad  t\\in (0, T]$$\n",
    "        \n",
    "   \n",
    " $${\\alpha} = k/(\\rho c)$$\n",
    " \n",
    " The one dimensional problem has the analytic solution: \n",
    " \n",
    " $$u(x,t) = U_0 + Ae^{-b_1x}\\cos (b_1 x - \\omega_1 t) + Ae^{-b_2x}\\cos (b_2x - \\omega_2 t),\\quad b_1=\\sqrt{\\frac{\\omega_1}{2{\\alpha}}}, ...$$\n",
    " \n",
    "        "
   ]
  },
  {
   "cell_type": "markdown",
   "metadata": {},
   "source": [
    "## FE solution\n",
    "\n",
    "First we discretize the time derivative by a finite difference approximation, which yields a sequence of stationary problems, and then turn each stationary problem into a variational (finite element) formulation.\n",
    "\n",
    "Let superscript $n$ denote a quantity at time $t_n$, where $n$ is an integer counting time levels. For example, $u^n$ means $u$ at time level $n$. A finite difference discretization in time first consists of sampling the PDE at some time level, say $t_{n+1}$:\n",
    "\n",
    "\n",
    "\n",
    "\\begin{equation}\n",
    "\\left({\\partial u \\over\\partial t}\\right)^{n+1} = \\alpha \\nabla^2 u^{n+1} + f^{n+1}\n",
    "\\end{equation}\n",
    "\n",
    "\n",
    "The time-derivative can be approximated by a difference quotient .For simplicity and stability reasons, we choose a simple backward difference (or the implicit Euler method):\n",
    "\n",
    "\n",
    "\\begin{equation}\n",
    "{{u^{n+1} - u^n}\\over{\\Delta t}} = \\alpha \\nabla^2 u^{n+1} + f^{n+1}\n",
    "\\end{equation}\n",
    "\n",
    "where $\\Delta t$ is the time discretization parameter.\n",
    "\n",
    "\\begin{align}\n",
    "u^{n+1} - \\alpha {\\Delta t}\\nabla^2 u^{n+1} &=  u^n + {\\Delta t} f^{n+1},\\quad n=0,1,2,\\ldots\n",
    "\\end{align}\n",
    "\n",
    "We use a finite element method to solve this equations.  This requires turning the equations into weak forms.  As usual, we multiply by a test function $v\\in \\hat V$ and integrate second-derivatives by parts. Introducing the symbol $u$ for $u^{n+1}$ (which is natural in the program), the resulting weak form arising from formulation\n",
    "\n",
    "\n",
    "\\begin{align}\n",
    "a(u,v) &= \\int_\\Omega\\left(uv + \\alpha {\\Delta t}\n",
    "\\nabla u\\cdot \\nabla v\\right) dx\\\\\n",
    "L_{n+1}(v) &= \\int_\\Omega \\left(u^n + {\\Delta t}  f^{n+1}\\right)v dx\\\n",
    "\\end{align}\n",
    "\n",
    "\n",
    "Note that the matrix __a__ only needs to be computed once, as it consists only of the test and trial functions, their derivatives, and $\\Delta t$ which we keep constant.\n",
    "\n",
    "As you'll see in this notebook, the Fenics description of the variational problem is very similar to mathematical weak form written above:\n",
    "\n",
    "```\n",
    "a = u*v*dx + alpha*dt*inner(nabla_grad(u), nabla_grad(v))*dx \n",
    "L = (u_1 + dt*f)*v*dx\n",
    "```"
   ]
  },
  {
   "cell_type": "markdown",
   "metadata": {},
   "source": [
    "## Imports"
   ]
  },
  {
   "cell_type": "code",
   "execution_count": 1,
   "metadata": {
    "collapsed": false
   },
   "outputs": [
    {
     "name": "stdout",
     "output_type": "stream",
     "text": [
      "Populating the interactive namespace from numpy and matplotlib\n"
     ]
    },
    {
     "name": "stderr",
     "output_type": "stream",
     "text": [
      "/usr/local/lib/python2.7/dist-packages/matplotlib/__init__.py:1357: UserWarning:  This call to matplotlib.use() has no effect\n",
      "because the backend has already been chosen;\n",
      "matplotlib.use() must be called *before* pylab, matplotlib.pyplot,\n",
      "or matplotlib.backends is imported for the first time.\n",
      "\n",
      "  warnings.warn(_use_error_msg)\n"
     ]
    }
   ],
   "source": [
    "%pylab inline\n",
    "import matplotlib.pyplot as pyplt\n",
    "\n",
    "from dolfin import *\n",
    "import sys, numpy, time\n",
    "\n"
   ]
  },
  {
   "cell_type": "markdown",
   "metadata": {},
   "source": [
    "## Physical paramters\n",
    "\n",
    "This model is solved in dimensional (SI) units"
   ]
  },
  {
   "cell_type": "code",
   "execution_count": 2,
   "metadata": {
    "collapsed": false
   },
   "outputs": [],
   "source": [
    "# Physical parameters\n",
    "D = 20.   #depth in m\n",
    "T_0 = 15.   #average temp\n",
    "T_D = 0.0  #amplitude of daily signal\n",
    "T_A = 10.0  #amplitude of annual signal\n",
    "\n",
    "tD = 60.*60*24    #period of daily signal\n",
    "tA = 365*60.*60*24 #period of daily signal\n",
    "\n",
    "wD = 2*math.pi/tD #angular frequency of signal - radians per second\n",
    "wA = 2*math.pi/tA\n",
    "\n",
    "\n",
    "#http://web.archive.org/web/20150215053624/http://apollo.lsc.vsc.edu/classes/met455/notes/section6/2.html\n",
    "# soil:\n",
    "rho = 1.6*1e3 #kg.m-3\n",
    "k0 = 0.25*1e-6 #m2.s-1 \n",
    "k1 = 0.25*1e-6 #To match the analytic solution, this needs to be equal to k0\n"
   ]
  },
  {
   "cell_type": "markdown",
   "metadata": {},
   "source": [
    "# Create mesh and define function space"
   ]
  },
  {
   "cell_type": "code",
   "execution_count": 3,
   "metadata": {
    "collapsed": false
   },
   "outputs": [],
   "source": [
    "\n",
    "degree = 2\n",
    "aspectRatio=1.\n",
    "W = D*aspectRatio\n",
    "divisions = [128] #also use to to set dimensionality - 1D, or 2D\n",
    "d = len(divisions)\n",
    "\n",
    "\n",
    "d = len(divisions)  # no of space dimensions\n",
    "\n",
    "if d == 1:\n",
    "    mesh = IntervalMesh(divisions[0], 0, D)\n",
    "    \n",
    "elif d == 2:\n",
    "    mesh = RectangleMesh(Point(-W/2, D), Point(W/2, 0), divisions[0], divisions[1])\n",
    "    \n",
    "    #RectangleMesh(Point(-2, 0), Point(2.0, 1.0), md.res*4, md.res, \"crossed\")\n",
    "\n",
    "#The type of element here is the standard Lagrange family of elements,\n",
    "V = FunctionSpace(mesh, 'Lagrange', degree)"
   ]
  },
  {
   "cell_type": "code",
   "execution_count": null,
   "metadata": {
    "collapsed": false
   },
   "outputs": [],
   "source": []
  },
  {
   "cell_type": "markdown",
   "metadata": {},
   "source": [
    "# boundary temp condition"
   ]
  },
  {
   "cell_type": "code",
   "execution_count": 4,
   "metadata": {
    "collapsed": false
   },
   "outputs": [],
   "source": [
    "#Our boundary temp condition is defined using an expression\n",
    "\n",
    "T_S = Expression('T_0 + T_D*cos(wD*t) + T_A*cos(wA*t)',\n",
    "                 T_0=T_0, T_D=T_D, T_A=T_A, wD=wA, wA=wA, t=0.0, degree=1)\n",
    "\n",
    "\n",
    "\n",
    "#We also use an expression to define the analytic solution\n",
    "\n",
    "\n",
    "b1 = np.sqrt(wD/(2.*k0))\n",
    "b2 = np.sqrt(wA/(2.*k0))\n",
    "\n",
    "#1-D case\n",
    "if d == 1:\n",
    "    T_e = Expression('T_0 + T_D*exp(-1*b1*x[0])*cos(b1*x[0] - wD*t) + T_A*exp(-1*b2*x[0])*cos(b2*x[0] -wA*t)',\n",
    "                 T_0=T_0, T_D=T_D, T_A=T_A, wD=wD, wA=wA, t=0.0, degree=1, b1=b1, b2=b2)\n",
    "\n",
    "#2-D case\n",
    "else:\n",
    "    T_e = Expression('T_0 + T_D*exp(-1*b1*x[1])*cos(b1*x[1] - wD*t) + T_A*exp(-1*b2*x[1])*cos(b2*x[1] -wA*t)',\n",
    "                 T_0=T_0, T_D=T_D, T_A=T_A, wD=wD, wA=wA, t=0.0, degree=1, b1=b1, b2=b2)"
   ]
  },
  {
   "cell_type": "code",
   "execution_count": 5,
   "metadata": {
    "collapsed": false
   },
   "outputs": [],
   "source": [
    "#Now we actuall crate the Boundary condition object\n",
    "\n",
    "def surface(x, on_boundary):\n",
    "    return on_boundary and abs(x[d-1]) < 1E-14\n",
    "\n",
    "bc = DirichletBC(V, T_S, surface)\n",
    "\n",
    "#all other boundary conditions are zero flux (Neummann) and we can set these implicity by ignoring them."
   ]
  },
  {
   "cell_type": "code",
   "execution_count": 6,
   "metadata": {
    "collapsed": false
   },
   "outputs": [
    {
     "data": {
      "text/plain": [
       "<matplotlib.text.Text at 0x7f108a4e4750>"
      ]
     },
     "execution_count": 6,
     "metadata": {},
     "output_type": "execute_result"
    },
    {
     "data": {
      "image/png": "[encoded data removed]",
      "text/plain": [
       "<matplotlib.figure.Figure at 0x7f108aec4410>"
      ]
     },
     "metadata": {},
     "output_type": "display_data"
    }
   ],
   "source": [
    "#plot exact solution at various depths, throughout year\n",
    "\n",
    "times = np.linspace(0, tA, 365.*20.)\n",
    "BTemps = T_0 + T_D*np.cos(wD*times ) + T_A*np.cos(wA*times )\n",
    "\n",
    "\n",
    "fig, ax = pyplt.subplots()\n",
    "\n",
    "ax.plot(12.*times/tA, BTemps, ls='--', lw=3.)\n",
    "for depth in [0.0, 0.1, 1.0,2.0, 5.0]:\n",
    "    eTemps = T_0 + T_D*np.exp(-1.*b1*depth)*np.cos(b1*depth - wD*times) \\\n",
    "    + T_A*np.exp(-1.*b2*depth)*np.cos(b2*depth -wA*times)\n",
    "\n",
    "    ax.plot(12.*times/tA, eTemps, label = 'depth = ' + str(depth) + ' m')\n",
    "    \n",
    "ax.legend(loc=3, fontsize = 'small')\n",
    "ax.set_xlabel('months')\n",
    "ax.set_ylabel('temp.')"
   ]
  },
  {
   "cell_type": "markdown",
   "metadata": {},
   "source": [
    "## Create different materials"
   ]
  },
  {
   "cell_type": "code",
   "execution_count": 7,
   "metadata": {
    "collapsed": false
   },
   "outputs": [],
   "source": [
    "#Once again we use an expression to create different materials in our domain. \n",
    "#Note that an Expression can be defined as a Python class which allows for more complex logic\n",
    "#The class inherits from the Expression class\n",
    "\n",
    "class Alpha(Expression):\n",
    "    def eval(self, value, x):\n",
    "        \"\"\"x: spatial point, value[0]: function value.\"\"\"\n",
    "        d = len(x)  # no of space dimensions\n",
    "        material = 0  # 0: outside, 1: inside\n",
    "        if d == 1:\n",
    "            if D/8. <= x[d-1] <=  2*D/8.:\n",
    "                material = 1\n",
    "        elif d == 2:\n",
    "            if D/8. < x[d-1] < 2*D/8. and \\\n",
    "               -W/4. < x[0] < W/4.:\n",
    "                material = 1\n",
    "        value[0] = k0 if material == 0 else k1"
   ]
  },
  {
   "cell_type": "code",
   "execution_count": 8,
   "metadata": {
    "collapsed": true
   },
   "outputs": [],
   "source": [
    "#create an instance of alpha\n",
    "alpha = Alpha(degree=1)\n"
   ]
  },
  {
   "cell_type": "code",
   "execution_count": 9,
   "metadata": {
    "collapsed": false
   },
   "outputs": [
    {
     "data": {
      "image/png": "[encoded data removed]",
      "text/plain": [
       "<matplotlib.figure.Figure at 0x7f108ad1e850>"
      ]
     },
     "metadata": {},
     "output_type": "display_data"
    }
   ],
   "source": [
    "\n",
    "\n",
    "#We can't plot an Expression directly using the Fenics plot() command, \n",
    "#But we can creat a fucntion and interpolate ourt Expression to that function\n",
    "\n",
    "\n",
    "f = Function(V)\n",
    "f.interpolate(alpha )\n",
    "if d > 1:\n",
    "    plot(f )\n",
    "    \n",
    "else:\n",
    "    pyplt.plot(f.vector().array(), ls='', marker='o')"
   ]
  },
  {
   "cell_type": "markdown",
   "metadata": {},
   "source": [
    "## Set up the FE problem"
   ]
  },
  {
   "cell_type": "code",
   "execution_count": 10,
   "metadata": {
    "collapsed": false
   },
   "outputs": [],
   "source": [
    "# We'll use u for the unknown T at the new time level and u_1 for T at the previous time level. \n",
    "u_1 = interpolate(T_e, V)\n",
    "\n",
    "t_stop = 1*wA  #Stop at this time\n",
    "dt = tA/500.  # define the time step\n",
    "\n",
    "#Set up the trial and test functions in a the space V\n",
    "u = TrialFunction(V)\n",
    "v = TestFunction(V)\n",
    "\n",
    "\n",
    "f = Constant(0.)     #Source term\n",
    "\n",
    "#these two lines specify the PDE to be solved.\n",
    "a = u*v*dx + alpha*dt*inner(nabla_grad(u), nabla_grad(v))*dx \n",
    "L = (u_1 + dt*f)*v*dx\n",
    "\n",
    "# assemble 'a' only once, before the time stepping\n",
    "A = assemble(a)   \n",
    "\n"
   ]
  },
  {
   "cell_type": "code",
   "execution_count": 11,
   "metadata": {
    "collapsed": true
   },
   "outputs": [],
   "source": [
    "u = Function(V)   # the unknown at a new time level\n",
    "t = dt\n",
    "\n",
    "\n",
    "#Note that we first defined the variable u as a TrialFunction and used it to represent the unknown in the form a. \n",
    "#Thereafter, we redefined u to be a Function object representing the solution; \n",
    "#i.e., the computed finite element function u. "
   ]
  },
  {
   "cell_type": "markdown",
   "metadata": {},
   "source": [
    "\n",
    "\n"
   ]
  },
  {
   "cell_type": "code",
   "execution_count": 12,
   "metadata": {
    "collapsed": true
   },
   "outputs": [],
   "source": [
    "## Set up some points to extract solution\n",
    "\n",
    "tol = 0.001  # avoid hitting points outside the domain\n",
    "x = np.linspace(-D/2. + tol, D/2. - tol, 101)\n",
    "xpoints = [( x_, D/2.) for x_ in x]  # 2D points\n",
    "\n",
    "y = np.linspace(0. + tol, D - tol, 101)\n",
    "ypoints = [( 0., y_) for y_ in y]  # 2D points\n"
   ]
  },
  {
   "cell_type": "code",
   "execution_count": 13,
   "metadata": {
    "collapsed": true
   },
   "outputs": [],
   "source": [
    "#list to store values at time steps\n",
    "times = []\n",
    "uh = []\n",
    "uv = []\n",
    "uEh = []\n",
    "uEv = []"
   ]
  },
  {
   "cell_type": "markdown",
   "metadata": {},
   "source": [
    "## Main loop"
   ]
  },
  {
   "cell_type": "code",
   "execution_count": 14,
   "metadata": {
    "collapsed": false
   },
   "outputs": [],
   "source": [
    "maxSteps = 500\n",
    "for i in range(maxSteps):\n",
    "    b = assemble(L)\n",
    "    T_S.t = t        #update boundary term\n",
    "    T_e.t = t        #update exact solution\n",
    "    bc.apply(A, b)\n",
    "    solve(A, u.vector(), b)\n",
    "    \n",
    "    \n",
    "    times.append(t)\n",
    "    \n",
    "\n",
    "    t += dt\n",
    "    u_1.assign(u)\n",
    "    \n",
    "    if d == 1:\n",
    "        #in 1D we'll just store the value at all the nodes, as well as the exact solution\n",
    "        uh.append(u.vector().array())\n",
    "        u_e = interpolate(T_e, V)\n",
    "        uEh.append(u_e.vector().array())\n",
    "    \n",
    "    #else:\n",
    "        #in 2D we'll just pull out the solution at specified points\n",
    "        #uh.append(np.array([u_1(point) for point in xpoints]))\n",
    "        #uv.append(np.array([u_1(point) for point in ypoints]))\n",
    "\n",
    "        #uEh.append(np.array([u_e(point) for point in xpoints]))\n",
    "        #uEv.append(np.array([u_e(point) for point in ypoints]))"
   ]
  },
  {
   "cell_type": "code",
   "execution_count": 36,
   "metadata": {
    "collapsed": true
   },
   "outputs": [],
   "source": [
    "u_e = interpolate(T_e, V)"
   ]
  },
  {
   "cell_type": "code",
   "execution_count": 37,
   "metadata": {
    "collapsed": false
   },
   "outputs": [
    {
     "data": {
      "image/png": "[encoded data removed]",
      "text/plain": [
       "<matplotlib.figure.Figure at 0x7f10862167d0>"
      ]
     },
     "metadata": {},
     "output_type": "display_data"
    }
   ],
   "source": [
    "#basic plots of solution / error\n",
    "\n",
    "if d == 1:\n",
    "    #for i in range(len(times)):\n",
    "    #    pyplot.plot(uh[i], c='k')\n",
    "    #    pyplot.plot(uEh[i], c='b', ls='--')\n",
    "    pyplot.plot(uh[-1], c='k')\n",
    "    pyplot.plot(uEh[-1], c='b', ls='--')\n",
    "    #pyplot.plot(u_e.vector().array() , c='b', ls='-')\n",
    "\n",
    "    \n",
    "else:\n",
    "    plot(u)"
   ]
  },
  {
   "cell_type": "code",
   "execution_count": 16,
   "metadata": {
    "collapsed": false
   },
   "outputs": [
    {
     "name": "stdout",
     "output_type": "stream",
     "text": [
      "Max error, t=31599072.00: 0.009     \n"
     ]
    }
   ],
   "source": [
    "u_e = interpolate(T_e, V)\n",
    "maxdiff = numpy.abs(u_e.vector().array()-u_1.vector().array()).max()\n",
    "print 'Max error, t=%.2f: %-10.3f' % (t, maxdiff)"
   ]
  },
  {
   "cell_type": "code",
   "execution_count": 17,
   "metadata": {
    "collapsed": false
   },
   "outputs": [
    {
     "data": {
      "image/png": "[encoded data removed]",
      "text/plain": [
       "<matplotlib.figure.Figure at 0x7f108a5c31d0>"
      ]
     },
     "metadata": {},
     "output_type": "display_data"
    }
   ],
   "source": [
    "if d == 2:\n",
    "    plot(u - u_e) #plot the error\n",
    "else:\n",
    "    pyplot.plot(u.vector().array()-u_e.vector().array(), c='k')  #plot the error\n",
    "\n",
    "    "
   ]
  },
  {
   "cell_type": "code",
   "execution_count": 18,
   "metadata": {
    "collapsed": false
   },
   "outputs": [
    {
     "name": "stdout",
     "output_type": "stream",
     "text": [
      "15.0172674158\n"
     ]
    }
   ],
   "source": [
    "#extracting the solution at a point is simple:\n",
    "\n",
    "if d == 2:\n",
    "    print(u((-9.9990000000000006, 10.0)))  #2d\n",
    "    \n",
    "    #or a set of points (using a list comprehension)\n",
    "    data = [u(point) for point in xpoints]\n",
    "else:\n",
    "    print(u(D/2.))  #1d\n",
    "    \n",
    " "
   ]
  },
  {
   "cell_type": "markdown",
   "metadata": {
    "collapsed": true
   },
   "source": [
    "## Notes\n",
    "\n",
    "* The depth of the domain is important here because we are actually trying to mimic a Dirichlet condition at infinite distance.\n",
    "\n"
   ]
  },
  {
   "cell_type": "code",
   "execution_count": 19,
   "metadata": {
    "collapsed": false
   },
   "outputs": [
    {
     "data": {
      "text/plain": [
       "(129, 257)"
      ]
     },
     "execution_count": 19,
     "metadata": {},
     "output_type": "execute_result"
    }
   ],
   "source": [
    "len(mesh.coordinates()), len(u.vector())"
   ]
  },
  {
   "cell_type": "code",
   "execution_count": 20,
   "metadata": {
    "collapsed": false
   },
   "outputs": [
    {
     "data": {
      "text/plain": [
       "129"
      ]
     },
     "execution_count": 20,
     "metadata": {},
     "output_type": "execute_result"
    }
   ],
   "source": [
    "\n",
    "len(u.compute_vertex_values())"
   ]
  },
  {
   "cell_type": "code",
   "execution_count": 21,
   "metadata": {
    "collapsed": false
   },
   "outputs": [
    {
     "data": {
      "text/plain": [
       "257"
      ]
     },
     "execution_count": 21,
     "metadata": {},
     "output_type": "execute_result"
    }
   ],
   "source": [
    "len(u_e.vector().array())"
   ]
  },
  {
   "cell_type": "code",
   "execution_count": null,
   "metadata": {
    "collapsed": true
   },
   "outputs": [],
   "source": []
  }
 ],
 "metadata": {
  "kernelspec": {
   "display_name": "Python 2",
   "language": "python",
   "name": "python2"
  },
  "language_info": {
   "codemirror_mode": {
    "name": "ipython",
    "version": 2
   },
   "file_extension": ".py",
   "mimetype": "text/x-python",
   "name": "python",
   "nbconvert_exporter": "python",
   "pygments_lexer": "ipython2",
   "version": "2.7.12"
  }
 },
 "nbformat": 4,
 "nbformat_minor": 1
}

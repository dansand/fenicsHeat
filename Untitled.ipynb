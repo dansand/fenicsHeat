{
 "cells": [
  {
   "cell_type": "markdown",
   "metadata": {},
   "source": [
    "## Heat equation with Fenics"
   ]
  },
  {
   "cell_type": "markdown",
   "metadata": {},
   "source": [
    "A straightforward approach to solving time-dependent PDEs by the\n",
    "finite element method is to first discretize the time derivative by a\n",
    "finite difference approximation, which yields a sequence of\n",
    "stationary problems, and then turn each stationary problem into a\n",
    "variational formulation.\n",
    "\n",
    "Let superscript $n$ denote a quantity at time $t_n$, where $n$ is an\n",
    "integer counting time levels. For example, $u^n$ means $u$ at time\n",
    "level $n$. A finite difference discretization in time first consists\n",
    "of sampling the PDE at some time level, say $t_{n+1}$:\n",
    "\n",
    "\n",
    "\n",
    "\\begin{equation}\n",
    "\\left({\\partial u \\over\\partial t}\\right)^{n+1} = \\nabla^2 u^{n+1} + f^{n+1}\n",
    "\\end{equation}\n",
    "\n",
    "\n",
    "The time-derivative can be approximated by a difference quotient.\n",
    "For simplicity and stability reasons, we choose a\n",
    "simple backward difference:\n",
    "\n",
    "\n",
    "\\begin{equation}\n",
    "{{u^{n+1} - u^n}\\over{\\Delta t}} = \\nabla^2 u^{n+1} + f^{n+1}\n",
    "\\end{equation}\n",
    "\n",
    "where $\\Delta t$ is the time discretization parameter.\n",
    "\n",
    "\\begin{align}\n",
    "u^{n+1} - {\\Delta t}\\nabla^2 u^{n+1} &=  u^n + {\\Delta t} f^{n+1},\\quad n=0,1,2,\\ldots\n",
    "\\end{align}\n",
    "\n",
    "We use a finite element method to solve this equations.  This\n",
    "requires turning the equations into weak forms.  As usual, we multiply\n",
    "by a test function $v\\in \\hat V$ and integrate second-derivatives by\n",
    "parts. Introducing the symbol $u$ for $u^{n+1}$ (which is natural in the\n",
    "program), the resulting weak form arising from\n",
    "formulation\n",
    "\n",
    "\n",
    "\\begin{align}\n",
    "a(u,v) &= \\int_\\Omega\\left(uv + {\\Delta t}\n",
    "\\nabla u\\cdot \\nabla v\\right) dx\\\\\n",
    "L_{n+1}(v) &= \\int_\\Omega \\left(u^n + {\\Delta t}  f^{n+1}\\right)v dx\\\n",
    "\\end{align}"
   ]
  },
  {
   "cell_type": "code",
   "execution_count": null,
   "metadata": {
    "collapsed": true
   },
   "outputs": [],
   "source": []
  },
  {
   "cell_type": "code",
   "execution_count": 7,
   "metadata": {
    "collapsed": false
   },
   "outputs": [
    {
     "name": "stdout",
     "output_type": "stream",
     "text": [
      "Populating the interactive namespace from numpy and matplotlib\n"
     ]
    },
    {
     "name": "stderr",
     "output_type": "stream",
     "text": [
      "/usr/local/lib/python2.7/dist-packages/IPython/core/magics/pylab.py:161: UserWarning: pylab import has clobbered these variables: ['rand', 'inv', 'rank', 'cosh', 'shape', 'seed', 'diff', 'tan', 'plot', 'outer', 'log', 'diag', 'cross', 'sqrt', 'inner', 'pi', 'sin', 'norm', 'split', 'product', 'transpose', 'sinh', 'sign', 'info', 'cos', 'e', 'tanh', 'det', 'solve', 'exp', 'indices', 'dot', 'interactive']\n",
      "`%matplotlib` prevents importing * from pylab and numpy\n",
      "  \"\\n`%matplotlib` prevents importing * from pylab and numpy\"\n"
     ]
    }
   ],
   "source": [
    "#this need to be imported before dolfin for notebook plots to work\n",
    "%pylab inline \n",
    "from dolfin import *\n",
    "import numpy"
   ]
  },
  {
   "cell_type": "code",
   "execution_count": 8,
   "metadata": {
    "collapsed": false
   },
   "outputs": [],
   "source": [
    "# Create mesh and define function space\n",
    "nx = ny = 8\n",
    "mesh = UnitSquareMesh(nx, ny)\n",
    "#mesh = UnitIntervalMesh(nx)\n",
    "V = FunctionSpace(mesh, 'Lagrange', 1)"
   ]
  },
  {
   "cell_type": "code",
   "execution_count": 9,
   "metadata": {
    "collapsed": false
   },
   "outputs": [
    {
     "data": {
      "text/plain": [
       "[<matplotlib.lines.Line2D at 0x7f3470126150>,\n",
       " <matplotlib.lines.Line2D at 0x7f34701f4050>]"
      ]
     },
     "execution_count": 9,
     "metadata": {},
     "output_type": "execute_result"
    },
    {
     "data": {
      "image/png": "[encoded data removed]",
      "text/plain": [
       "<matplotlib.figure.Figure at 0x7f3470272a90>"
      ]
     },
     "metadata": {},
     "output_type": "display_data"
    }
   ],
   "source": [
    "plot(mesh)"
   ]
  },
  {
   "cell_type": "markdown",
   "metadata": {},
   "source": [
    "Since we know that our first-order time-stepping scheme is exact for linear functions, we create a\n",
    "test problem which has a linear variation in time. We combine this with a\n",
    "quadratic variation in space. We thus take"
   ]
  },
  {
   "cell_type": "code",
   "execution_count": 10,
   "metadata": {
    "collapsed": false
   },
   "outputs": [
    {
     "name": "stderr",
     "output_type": "stream",
     "text": [
      "--- Instant: compiling ---\n"
     ]
    }
   ],
   "source": [
    "# Define boundary conditions\n",
    "alpha = 3; beta = 1.2\n",
    "u0 = Expression('1 + x[0]*x[0] + alpha*x[1]*x[1] + beta*t',\n",
    "                alpha=alpha, beta=beta, t=0, degree=1)"
   ]
  },
  {
   "cell_type": "code",
   "execution_count": 64,
   "metadata": {
    "collapsed": true
   },
   "outputs": [],
   "source": [
    "class Boundary(SubDomain):  # define the Dirichlet boundary\n",
    "    def inside(self, x, on_boundary):\n",
    "        return on_boundary\n",
    "\n",
    "boundary = Boundary()\n",
    "bc = DirichletBC(V, u0, boundary)"
   ]
  },
  {
   "cell_type": "code",
   "execution_count": 65,
   "metadata": {
    "collapsed": true
   },
   "outputs": [],
   "source": [
    "# Initial condition\n",
    "u_1 = interpolate(u0, V)\n",
    "#u_1 = project(u0, V)  # will not result in exact solution!"
   ]
  },
  {
   "cell_type": "code",
   "execution_count": 78,
   "metadata": {
    "collapsed": false
   },
   "outputs": [
    {
     "data": {
      "text/plain": [
       "<matplotlib.tri.tricontour.TriContourSet at 0x7fc111392650>"
      ]
     },
     "execution_count": 78,
     "metadata": {},
     "output_type": "execute_result"
    },
    {
     "data": {
      "image/png": "[encoded data removed]",
      "text/plain": [
       "<matplotlib.figure.Figure at 0x7fc1116ea790>"
      ]
     },
     "metadata": {},
     "output_type": "display_data"
    }
   ],
   "source": [
    "plot(u_1)"
   ]
  },
  {
   "cell_type": "code",
   "execution_count": 80,
   "metadata": {
    "collapsed": false
   },
   "outputs": [],
   "source": [
    "# Laplace term\n",
    "u = TrialFunction(V)\n",
    "v = TestFunction(V)\n",
    "a_K = inner(nabla_grad(u), nabla_grad(v))*dx\n",
    "\n",
    "# \"Mass matrix\" term\n",
    "a_M = u*v*dx\n",
    "\n",
    "M = assemble(a_M)\n",
    "K = assemble(a_K)\n",
    "A = M + dt*K\n",
    "\n",
    "# f term\n",
    "f = Expression('beta - 2 - 2*alpha', beta=beta, alpha=alpha, degree=1)"
   ]
  },
  {
   "cell_type": "code",
   "execution_count": 81,
   "metadata": {
    "collapsed": true
   },
   "outputs": [],
   "source": [
    "T = 10       # total simulation time\n",
    "dt = 0.3      # time step\n",
    "\n",
    "# Define variational problem"
   ]
  },
  {
   "cell_type": "code",
   "execution_count": 82,
   "metadata": {
    "collapsed": false
   },
   "outputs": [
    {
     "name": "stdout",
     "output_type": "stream",
     "text": [
      "time = 0.3\n",
      "Max error, t=0.300     : 1.87406520549\n",
      "time = 0.6\n",
      "Max error, t=0.600     : 1.5254473106\n",
      "time = 0.9\n",
      "Max error, t=0.900     : 1.16707353069\n",
      "time = 1.2\n",
      "Max error, t=1.200     : 0.807301980788\n",
      "time = 1.5\n",
      "Max error, t=1.500     : 0.44733395558\n",
      "time = 1.8\n",
      "Max error, t=1.800     : 0.0873384274446\n",
      "time = 2.1\n",
      "Max error, t=2.100     : 0.36\n",
      "time = 2.4\n",
      "Max error, t=2.400     : 0.72\n",
      "time = 2.7\n",
      "Max error, t=2.700     : 1.08\n",
      "time = 3.0\n",
      "Max error, t=3.000     : 1.44\n",
      "time = 3.3\n",
      "Max error, t=3.300     : 1.8\n",
      "time = 3.6\n",
      "Max error, t=3.600     : 2.16\n",
      "time = 3.9\n",
      "Max error, t=3.900     : 2.52\n",
      "time = 4.2\n",
      "Max error, t=4.200     : 2.88\n",
      "time = 4.5\n",
      "Max error, t=4.500     : 3.24\n",
      "time = 4.8\n",
      "Max error, t=4.800     : 3.6\n",
      "time = 5.1\n",
      "Max error, t=5.100     : 3.96\n",
      "time = 5.4\n",
      "Max error, t=5.400     : 4.32\n",
      "time = 5.7\n",
      "Max error, t=5.700     : 4.68\n",
      "time = 6.0\n",
      "Max error, t=6.000     : 5.04\n",
      "time = 6.3\n",
      "Max error, t=6.300     : 5.4\n",
      "time = 6.6\n",
      "Max error, t=6.600     : 5.76\n",
      "time = 6.9\n",
      "Max error, t=6.900     : 6.12\n",
      "time = 7.2\n",
      "Max error, t=7.200     : 6.48\n",
      "time = 7.5\n",
      "Max error, t=7.500     : 6.84\n",
      "time = 7.8\n",
      "Max error, t=7.800     : 7.2\n",
      "time = 8.1\n",
      "Max error, t=8.100     : 7.56\n",
      "time = 8.4\n",
      "Max error, t=8.400     : 7.92\n",
      "time = 8.7\n",
      "Max error, t=8.700     : 8.28\n",
      "time = 9.0\n",
      "Max error, t=9.000     : 8.64\n",
      "time = 9.3\n",
      "Max error, t=9.300     : 9.0\n",
      "time = 9.6\n",
      "Max error, t=9.600     : 9.36\n",
      "time = 9.9\n",
      "Max error, t=9.900     : 9.72\n"
     ]
    }
   ],
   "source": [
    "# Compute solution\n",
    "u = Function(V)\n",
    "t = dt\n",
    "while t <= T:\n",
    "    print 'time =', t\n",
    "    # f.t = t\n",
    "    f_k = interpolate(f, V)\n",
    "    F_k = f_k.vector()\n",
    "    b = M*u_1.vector() + dt*M*F_k\n",
    "    u0.t = t\n",
    "    bc.apply(A, b)\n",
    "    solve(A, u.vector(), b)\n",
    "\n",
    "    # Verify\n",
    "    u_e = interpolate(u0, V)\n",
    "    u_e_array = u_e.vector().array()\n",
    "    u_array = u.vector().array()\n",
    "    print 'Max error, t=%-10.3f:' % t, numpy.abs(u_e_array - u_array).max()\n",
    "\n",
    "    t += dt\n",
    "    u_1.assign(u)"
   ]
  },
  {
   "cell_type": "code",
   "execution_count": 83,
   "metadata": {
    "collapsed": false
   },
   "outputs": [
    {
     "data": {
      "text/plain": [
       "<matplotlib.tri.tricontour.TriContourSet at 0x7fc110447210>"
      ]
     },
     "execution_count": 83,
     "metadata": {},
     "output_type": "execute_result"
    },
    {
     "data": {
      "image/png": "[encoded data removed]",
      "text/plain": [
       "<matplotlib.figure.Figure at 0x7fc1116eadd0>"
      ]
     },
     "metadata": {},
     "output_type": "display_data"
    }
   ],
   "source": [
    "#%pylab inline\n",
    "plot(u)"
   ]
  },
  {
   "cell_type": "code",
   "execution_count": 84,
   "metadata": {
    "collapsed": false
   },
   "outputs": [
    {
     "data": {
      "text/plain": [
       "<matplotlib.tri.tricontour.TriContourSet at 0x7fc11030a650>"
      ]
     },
     "execution_count": 84,
     "metadata": {},
     "output_type": "execute_result"
    },
    {
     "data": {
      "image/png": "[encoded data removed]",
      "text/plain": [
       "<matplotlib.figure.Figure at 0x7fc11037f090>"
      ]
     },
     "metadata": {},
     "output_type": "display_data"
    }
   ],
   "source": [
    "plot(u_e)"
   ]
  },
  {
   "cell_type": "code",
   "execution_count": 70,
   "metadata": {
    "collapsed": false
   },
   "outputs": [],
   "source": [
    "t = u.vector()"
   ]
  },
  {
   "cell_type": "code",
   "execution_count": 71,
   "metadata": {
    "collapsed": false
   },
   "outputs": [
    {
     "data": {
      "text/plain": [
       "array([ 6.16    ,  5.456875,  6.175625,  4.8475  ,  5.4725  ,  6.2225  ,\n",
       "        4.331875,  4.863125,  5.519375,  6.300625,  3.91    ,  4.3475  ,\n",
       "        4.91    ,  5.5975  ,  6.41    ,  3.581875,  3.925625,  4.394375,\n",
       "        4.988125,  5.706875,  6.550625,  3.3475  ,  3.5975  ,  3.9725  ,\n",
       "        4.4725  ,  5.0975  ,  5.8475  ,  6.7225  ,  3.206875,  3.363125,\n",
       "        3.644375,  4.050625,  4.581875,  5.238125,  6.019375,  6.925625,\n",
       "        3.16    ,  3.2225  ,  3.41    ,  3.7225  ,  4.16    ,  4.7225  ,\n",
       "        5.41    ,  6.2225  ,  7.16    ,  3.175625,  3.269375,  3.488125,\n",
       "        3.831875,  4.300625,  4.894375,  5.613125,  6.456875,  3.2225  ,\n",
       "        3.3475  ,  3.5975  ,  3.9725  ,  4.4725  ,  5.0975  ,  5.8475  ,\n",
       "        3.300625,  3.456875,  3.738125,  4.144375,  4.675625,  5.331875,\n",
       "        3.41    ,  3.5975  ,  3.91    ,  4.3475  ,  4.91    ,  3.550625,\n",
       "        3.769375,  4.113125,  4.581875,  3.7225  ,  3.9725  ,  4.3475  ,\n",
       "        3.925625,  4.206875,  4.16    ])"
      ]
     },
     "execution_count": 71,
     "metadata": {},
     "output_type": "execute_result"
    }
   ],
   "source": [
    "t.array()"
   ]
  },
  {
   "cell_type": "code",
   "execution_count": null,
   "metadata": {
    "collapsed": true
   },
   "outputs": [],
   "source": []
  }
 ],
 "metadata": {
  "kernelspec": {
   "display_name": "Python 2",
   "language": "python",
   "name": "python2"
  },
  "language_info": {
   "codemirror_mode": {
    "name": "ipython",
    "version": 2
   },
   "file_extension": ".py",
   "mimetype": "text/x-python",
   "name": "python",
   "nbconvert_exporter": "python",
   "pygments_lexer": "ipython2",
   "version": "2.7.12"
  }
 },
 "nbformat": 4,
 "nbformat_minor": 1
}
